{
 "cells": [
  {
   "cell_type": "markdown",
   "id": "8efa13d2",
   "metadata": {},
   "source": [
    "# Project:\n",
    "\n",
    "Fruit detection with CNN?\n",
    "\n",
    "\n",
    "\n"
   ]
  },
  {
   "cell_type": "code",
   "execution_count": 1,
   "id": "7423106a",
   "metadata": {},
   "outputs": [
    {
     "name": "stdout",
     "output_type": "stream",
     "text": [
      "Attention context vector:\n",
      " [1.39731088 1.         1.05298479]\n"
     ]
    }
   ],
   "source": [
    "import numpy as np\n",
    "from numpy import array\n",
    "\n",
    "h1 = array([0, 1, 4])\n",
    "h2 = array([-1, 1, 2])\n",
    "h3 = array([1, 1, 1])\n",
    "h4 = array([2, 1, 1])\n",
    "preDecoder = array([0.1, 1, -2])\n",
    "\n",
    "#Firstly we calculate the dot-product attention:\n",
    "a1 = sum(preDecoder.T * h1)\n",
    "a2 = sum(preDecoder.T * h2)\n",
    "a3 = sum(preDecoder.T * h3)\n",
    "a4 = sum(preDecoder.T * h4)\n",
    "\n",
    "#Apply softmax over function encoders\n",
    "alpha1 = np.exp(a1) / (np.exp(a1)+np.exp(a2)+np.exp(a3)+np.exp(a4))\n",
    "alpha2 = np.exp(a2) / (np.exp(a1)+np.exp(a2)+np.exp(a3)+np.exp(a4))\n",
    "alpha3 = np.exp(a3) / (np.exp(a1)+np.exp(a2)+np.exp(a3)+np.exp(a4))\n",
    "alpha4 = np.exp(a4) / (np.exp(a1)+np.exp(a2)+np.exp(a3)+np.exp(a4))\n",
    "\n",
    "#Calculate attention context vector\n",
    "c = array(sum([alpha1*h1, alpha2*h2, alpha3*h3, alpha4*h4]))\n",
    "print(\"Attention context vector:\\n\", c)\n"
   ]
  },
  {
   "cell_type": "markdown",
   "id": "feaa9513",
   "metadata": {},
   "source": [
    "**d: Transformers**\n",
    "\n",
    "Transformers are used to parallelize the steps done in an encoder-decoder architecture to speed up the process. We use self attention to find similarities instead of the usual function which erases all information about the order of the input. Therefore transformers use postitional encoding.\n",
    "\n",
    "Positional encoding is done to have a unique representation for each word in a sequence. The reason we don't just use an index is that long sequences will make the indices grow very large. Transformers map each word/entity to a vector and therefore the output of the positional encoding is a matrix. Each row of the matrix is an encoded object of the sequence summed with the positional information. "
   ]
  },
  {
   "cell_type": "markdown",
   "id": "3e87d70c",
   "metadata": {},
   "source": [
    "**e: Bounding box detection:**"
   ]
  },
  {
   "cell_type": "code",
   "execution_count": 2,
   "id": "73a8492a",
   "metadata": {},
   "outputs": [
    {
     "name": "stdout",
     "output_type": "stream",
     "text": [
      "Thresholds [0.25 0.35 0.45 0.55 0.65]\n"
     ]
    }
   ],
   "source": [
    "import numpy as np\n",
    "import sklearn\n",
    "from sklearn import metrics\n",
    "import matplotlib\n",
    "from matplotlib import pyplot\n",
    "\n",
    "TP = True\n",
    "FP = False\n",
    "\n",
    "cat_det = [TP, FP, TP, FP, TP]\n",
    "pred_scores_cat = [0.7, 0.3, 0.5, 0.6, 0.55]\n",
    " \n",
    "dog_det = [FP, TP, TP, FP, TP, TP]\n",
    "pred_scores_dog = [0.4, 0.35, 0.95, 0.5, 0.6, 0.7]\n",
    "\n",
    "# We decide the thresholds from 0.25 to 0.75:\n",
    "thresholds = np.arange(start=0.25, stop=0.75, step=0.1)\n",
    "print(\"Thresholds\", thresholds)\n",
    "\n",
    "# Define a function that calculates precision and recall for each threshold:\n",
    "def precision_recall_curve(y_true, pred_scores, thresholds):\n",
    "    precisions = []\n",
    "    recalls = []\n",
    "    \n",
    "    for threshold in thresholds:\n",
    "        y_pred = [TP if score >= threshold else FP for score in pred_scores]\n",
    "\n",
    "        precision = sklearn.metrics.precision_score(y_true=y_true, y_pred=y_pred, pos_label=TP)\n",
    "        recall = sklearn.metrics.recall_score(y_true=y_true, y_pred=y_pred, pos_label=TP)\n",
    "        \n",
    "        precisions.append(precision)\n",
    "        recalls.append(recall)\n",
    "\n",
    "    return precisions, recalls"
   ]
  },
  {
   "cell_type": "code",
   "execution_count": 3,
   "id": "f5610a79",
   "metadata": {},
   "outputs": [
    {
     "name": "stdout",
     "output_type": "stream",
     "text": [
      "Precisions cat: [0.6, 0.75, 0.75, 0.6666666666666666, 1.0]\n",
      "Recalls cat: [1.0, 1.0, 1.0, 0.6666666666666666, 0.3333333333333333]\n",
      "Precisions dog: [0.6666666666666666, 0.6666666666666666, 0.75, 1.0, 1.0]\n",
      "Recalls dog: [1.0, 1.0, 0.75, 0.75, 0.5]\n"
     ]
    },
    {
     "data": {
      "image/png": "[encoded data removed]",
      "text/plain": [
       "<Figure size 432x288 with 1 Axes>"
      ]
     },
     "metadata": {
      "needs_background": "light"
     },
     "output_type": "display_data"
    }
   ],
   "source": [
    "# We use the function above to find precisions and recalls for cat and dog:\n",
    "\n",
    "precisions_cat, recalls_cat = precision_recall_curve(cat_det, pred_scores_cat, thresholds)\n",
    "precisions_dog, recalls_dog = precision_recall_curve(dog_det, pred_scores_dog, thresholds)\n",
    "\n",
    "print(\"Precisions cat:\", precisions_cat)\n",
    "print(\"Recalls cat:\", recalls_cat)\n",
    "\n",
    "print(\"Precisions dog:\", precisions_dog)\n",
    "print(\"Recalls dog:\", recalls_dog)\n",
    "\n",
    "# We can plot a precision-recall curve for each of the two classes:\n",
    "\n",
    "# Precision-Recall Curve cat\n",
    "matplotlib.pyplot.plot(recalls_cat, precisions_cat, linewidth=4, color=\"red\")\n",
    "matplotlib.pyplot.xlabel(\"Recall\", fontsize=12, fontweight='bold')\n",
    "matplotlib.pyplot.ylabel(\"Precision\", fontsize=12, fontweight='bold')\n",
    "matplotlib.pyplot.title(\"Precision-Recall Curve Cat\", fontsize=15, fontweight=\"bold\")\n",
    "matplotlib.pyplot.show()"
   ]
  },
  {
   "cell_type": "code",
   "execution_count": 4,
   "id": "b326c6d6",
   "metadata": {},
   "outputs": [
    {
     "data": {
      "image/png": "[encoded data removed]",
      "text/plain": [
       "<Figure size 432x288 with 1 Axes>"
      ]
     },
     "metadata": {
      "needs_background": "light"
     },
     "output_type": "display_data"
    }
   ],
   "source": [
    "# Precision-Recall Curve dog\n",
    "matplotlib.pyplot.plot(recalls_dog, precisions_dog, linewidth=4, color=\"red\")\n",
    "matplotlib.pyplot.xlabel(\"Recall\", fontsize=12, fontweight='bold')\n",
    "matplotlib.pyplot.ylabel(\"Precision\", fontsize=12, fontweight='bold')\n",
    "matplotlib.pyplot.title(\"Precision-Recall Curve Dog\", fontsize=15, fontweight=\"bold\")\n",
    "matplotlib.pyplot.show()"
   ]
  },
  {
   "cell_type": "code",
   "execution_count": 5,
   "id": "24a119e9",
   "metadata": {},
   "outputs": [
    {
     "name": "stdout",
     "output_type": "stream",
     "text": [
      "[0.75       0.85714286 0.85714286 0.66666667 0.5       ]\n",
      "[0.8        0.8        0.75       0.85714286 0.66666667]\n"
     ]
    }
   ],
   "source": [
    "# Caluclate f1 score to find a point where both precision and recall is high\n",
    "f1_cat = 2 * ((np.array(precisions_cat) * np.array(recalls_cat)) / (np.array(precisions_cat) + np.array(recalls_cat)))\n",
    "print(f1_cat)\n",
    "\n",
    "f1_dog = 2 * ((np.array(precisions_dog) * np.array(recalls_dog)) / (np.array(precisions_dog) + np.array(recalls_dog)))\n",
    "print(f1_dog)"
   ]
  },
  {
   "cell_type": "markdown",
   "id": "f778c9c9",
   "metadata": {},
   "source": [
    "The results of the scores above show that the best point on the curve for the cat is at index one or two, which means that the precision is 0.75 and recall is 1\n",
    "\n",
    "For the dog class the best score is at index 4, with a precision of 1 and a recall of 0.75"
   ]
  },
  {
   "cell_type": "code",
   "execution_count": 6,
   "id": "678d54f1",
   "metadata": {},
   "outputs": [
    {
     "name": "stdout",
     "output_type": "stream",
     "text": [
      "Average precision cat:  0.8055555555555556\n",
      "Average precision dog:  0.9166666666666666\n"
     ]
    }
   ],
   "source": [
    "# To calculate the average precision we append zero to recalls and one to precision\n",
    "precisions_cat.append(1)\n",
    "recalls_cat.append(0)\n",
    "precisions_dog.append(1)\n",
    "recalls_dog.append(0)\n",
    "\n",
    "# Convert to np arrays:\n",
    "precisions_catA = np.array(precisions_cat)\n",
    "recalls_catA = np.array(recalls_cat)\n",
    "precisions_dogA = np.array(precisions_dog)\n",
    "recalls_dogA = np.array(recalls_dog)\n",
    "\n",
    "# Calculate average precison for cat and dog:\n",
    "AP_cat = np.sum((recalls_catA[:-1] - recalls_catA[1:]) * precisions_catA[:-1])\n",
    "print(\"Average precision cat: \", AP_cat)\n",
    "AP_dog = np.sum((recalls_dogA[:-1] - recalls_dogA[1:]) * precisions_dogA[:-1])\n",
    "print(\"Average precision dog: \", AP_dog)"
   ]
  },
  {
   "cell_type": "code",
   "execution_count": 7,
   "id": "9961288d",
   "metadata": {},
   "outputs": [
    {
     "name": "stdout",
     "output_type": "stream",
     "text": [
      "Mean average precision:  0.8611111111111112\n"
     ]
    }
   ],
   "source": [
    "# With the average precison we can calcualte the mean average precision for the two classes:\n",
    "mAP = (AP_cat+AP_dog)/2\n",
    "print(\"Mean average precision: \", mAP)"
   ]
  },
  {
   "cell_type": "code",
   "execution_count": 8,
   "id": "72d6c58d",
   "metadata": {},
   "outputs": [
    {
     "name": "stdout",
     "output_type": "stream",
     "text": [
      "0.8055555555555556\n",
      "0.9166666666666666\n",
      "0.8611111111111112\n"
     ]
    }
   ],
   "source": [
    "# Instead of the above we can use the function average_precision_score:\n",
    "AP_cat = sklearn.metrics.average_precision_score(y_true=cat_det, y_score=pred_scores_cat, pos_label=TP)\n",
    "AP_dog = sklearn.metrics.average_precision_score(y_true=dog_det, y_score=pred_scores_dog, pos_label=TP)\n",
    "\n",
    "print(AP_cat)\n",
    "print(AP_dog)\n",
    "\n",
    "# Get mean average where we have 2 classes:\n",
    "mAP = (AP_cat + AP_dog)/2\n",
    "print(mAP)"
   ]
  },
  {
   "cell_type": "markdown",
   "id": "b50b2aef",
   "metadata": {},
   "source": [
    "\n",
    "**f: Semantic segmentation - FCN 1:**\n",
    "\n",
    "For each pixel we need to identify which of the 7 classes it belongs to. That means that we get a channel for each class, where each channel has a 0 or 1 depending on if it belongs to the class. Therefore we end up with a size of 1024x768x7 if the targets are one-hot encoded. \n",
    "\n",
    "**g: Semantic segmentation - FCN 2:**\n",
    "\n",
    "A fully convolutional network is a network that uses a CNN to transform inputs to a featuremap. It is often used for semantic segmentation where we want to label each pixel in an image to a class. FCNs have locally connected layers where we used convolution, pooling and upsampling. The pooling layers enable the network to look wider and learn semantics, but this is at the cost of the details, which is why upsampling is needed so the input and output match. \n",
    "\n",
    "FCNs are useful when we want to classify things in an image, where we don't care about the finer details. Since we dont use dense layers it means that we use less parameters, which makes the network faster to train. \n",
    "\n",
    "**h: Residual Networks:**\n",
    "\n",
    "Residual blocks can be used to faster propagate data through a network by feeding both the next layer and the layers 2 or 3 hops away. \n",
    "Usually the accuracy of a network increases with the number of layers, but we can end up with too many layers that will lead to a worse accuracy. Therefore to make sure that we dont have too many layers we can skip some by using residual blocks. By skipping layers we avoid the problem of vanishing gradients and the problem of degrading accuracy. \n",
    "\n",
    "**i: Intersection-Over-Union**\n",
    "\n",
    "We calucalte the IOU by finding the area of intersection divided by the area of union."
   ]
  },
  {
   "cell_type": "code",
   "execution_count": 9,
   "id": "a4410617",
   "metadata": {},
   "outputs": [
    {
     "name": "stdout",
     "output_type": "stream",
     "text": [
      "A 0.2857142857142857\n",
      "B 0.36\n",
      "C 0.46153846153846156\n",
      "D 0.5\n"
     ]
    }
   ],
   "source": [
    "# A:\n",
    "IOU_A = 4/14\n",
    "print(\"A\", IOU_A)\n",
    "\n",
    "# B:\n",
    "IOU_B = 9/25\n",
    "print(\"B\", IOU_B)\n",
    "\n",
    "# C:\n",
    "IOU_C = 6/13\n",
    "print(\"C\", IOU_C)\n",
    "\n",
    "# D:\n",
    "IOU_D = 6/12\n",
    "print(\"D\", IOU_D)"
   ]
  },
  {
   "cell_type": "markdown",
   "id": "e0562a2d",
   "metadata": {},
   "source": [
    "**j: Variational autoencoders:**\n",
    "\n",
    "Autoencoders are used to create new samples from existing samples. Typically we use autoencoders to corrupt the input data with noise and use the clean data as label. Autoencoders have an encoder and decoder layer as well as a hidden layer called the bottleneck. In the encoding layer the dimensions of the input is reduced and in the decoding layer the compressed data is reconstructed. The bottleneck is used to restrict the flow of information to the decoder and will only let through the most important informations. \n",
    "\n",
    "A variational autoencoder encodes with a regularized distribution in order to make sure that the properties in the bottleneck (latent space) are good, which allows us to generate new data. Instead of representating attributes with values, it is done with a probability distribution in the bottleneck. The reason to used VAE is that it makes us able to represent new versions of data instead of just altering the original data. "
   ]
  },
  {
   "cell_type": "markdown",
   "id": "89df27a8",
   "metadata": {},
   "source": [
    "# Problem 2:\n",
    "Firstly we load in the dataset class from the assignment description."
   ]
  },
  {
   "cell_type": "code",
   "execution_count": 10,
   "id": "790de28e",
   "metadata": {},
   "outputs": [],
   "source": [
    "import torch\n",
    "import torch.nn as nn\n",
    "import torch.nn.functional as F\n",
    "import torch.optim as optim\n",
    "import numpy as np\n",
    "import random\n",
    "import os\n",
    "from faker import Faker\n",
    "import random\n",
    "from tqdm import tqdm\n",
    "from babel.dates import format_date\n",
    "from faker import Faker\n",
    "\n",
    "fake = Faker()\n",
    "\n",
    "# We need to seed these guys. For some reason I always use 101\n",
    "Faker.seed(101)\n",
    "random.seed(101)\n",
    "\n",
    "device = torch.device(\"cuda:0\" if torch.cuda.is_available() else \"cpu\")\n",
    "\n",
    "#%% pytorch dataset\n",
    "\n",
    "class datesDataset(torch.utils.data.Dataset):\n",
    "    def __init__(self, locale='da', inputLength=40, outputLength=12, dataSetSize=20000):\n",
    "        \n",
    "        self.inputLength=inputLength\n",
    "        self.outputLength=outputLength\n",
    "        self.length=dataSetSize\n",
    "        self.lan=locale\n",
    "        \n",
    "        self.FORMATS= ['short', # d/M/YY\n",
    "           'medium', # MMM d, YYY\n",
    "           'long', # MMMM dd, YYY\n",
    "           'full', # EEEE, MMM dd, YYY\n",
    "           'd MMM YYY', \n",
    "           'd MMMM YYY',\n",
    "           'dd/MM/YYY',\n",
    "           'EE d, MMM YYY',\n",
    "           'EEEE d, MMMM YYY']\n",
    "        \n",
    "\n",
    "        #generate vocabularies:\n",
    "        alphabet=sorted(tuple('abcdefghijklmnopqrstuvwxyzæøå'))\n",
    "        numbers=sorted(tuple('0123456789'))\n",
    "        symbols=['<SOS>','<EOS>',' ',',','.','/','-','<unk>', '<pad>'];\n",
    "        self.humanVocab=dict(zip(symbols+numbers+alphabet,\n",
    "                            list(range(len(symbols)+len(numbers)+len(alphabet)))))\n",
    "        self.machineVocab =dict(zip(symbols+numbers,list(range(len(symbols)+len(numbers)))))\n",
    "        self.invMachineVocab= {v: k for k, v in self.machineVocab.items()}\n",
    "\n",
    "    def string_to_int(self,string, length, vocab):\n",
    "        string = string.lower()\n",
    "        \n",
    "\n",
    "        if not len(string)+2<=length: #+2 to make room for SOS and EOS\n",
    "            print(len(string),string)\n",
    "            print('Length:',length)\n",
    "            \n",
    "            raise AssertionError()\n",
    "\n",
    "        \n",
    "        rep = list(map(lambda x: vocab.get(x, '<unk>'),string))\n",
    "        rep.insert(0,vocab['<SOS>']); rep.append(vocab['<EOS>']) #add start and of sequence\n",
    "        \n",
    "        if len(string) < length:\n",
    "            rep += [vocab['<pad>']] * (length - len(rep))\n",
    "        \n",
    "        return rep        \n",
    "        \n",
    "    def __len__(self):\n",
    "        return self.length\n",
    "        \n",
    "    def __getitem__(self, idx):\n",
    "        dt = fake.date_object()\n",
    "\n",
    "        date = format_date(dt, format=random.choice(self.FORMATS), locale=self.lan)\n",
    "        human_readable = date.lower().replace(',', '')\n",
    "        machine_readable = dt.isoformat()\n",
    "        \n",
    "        humanEncoded=torch.LongTensor(self.string_to_int(human_readable,self.inputLength,self.humanVocab))\n",
    "        machineEncoded=torch.LongTensor(self.string_to_int(machine_readable,self.outputLength,self.machineVocab))\n",
    "        \n",
    "        return human_readable, machine_readable, humanEncoded, machineEncoded\n",
    "\n",
    "e=datesDataset()"
   ]
  },
  {
   "cell_type": "markdown",
   "id": "83a8c605",
   "metadata": {},
   "source": [
    "We split the dataset in train and test sets and creates dataloaders for each of them."
   ]
  },
  {
   "cell_type": "code",
   "execution_count": 11,
   "id": "f21ada39",
   "metadata": {},
   "outputs": [],
   "source": [
    "trainset, testset = torch.utils.data.random_split(e, [18000, 2000])\n",
    "trainset_loader=torch.utils.data.DataLoader(trainset,batch_size=1)\n",
    "testset_loader=torch.utils.data.DataLoader(testset,batch_size=1)"
   ]
  },
  {
   "cell_type": "markdown",
   "id": "88276b07",
   "metadata": {},
   "source": [
    "**Define a model**\n",
    "\n",
    "This model and the trinaing of the model is based on the example in https://pytorch.org/tutorials/intermediate/seq2seq_translation_tutorial.html\n",
    "\n",
    "\n",
    "We define a class for the encoder and the decoder. The encoder is a Gated Recurrent Unit (GRU) that outputs a value for each input it gets. In this case the values can be the human vocabulary. In the forward function the input is therefore one character which is being embedded and then is passed to the GRU.\n",
    "\n",
    "The decoder is also a GRU that takes the encoder output vector (context vector) and translates it into the target, in this case machine dates. \n",
    "The decoder also embedds the input and passes it to the hidden state, and in the end softmax is used on the output"
   ]
  },
  {
   "cell_type": "code",
   "execution_count": 12,
   "id": "9be4865a",
   "metadata": {},
   "outputs": [],
   "source": [
    "class EncoderRNN(nn.Module):\n",
    "    def __init__(self, input_size, hidden_size):\n",
    "        super(EncoderRNN, self).__init__()\n",
    "        self.hidden_size = hidden_size\n",
    "        self.embedding = nn.Embedding(input_size, hidden_size)\n",
    "        self.gru = nn.GRU(hidden_size, hidden_size)\n",
    "\n",
    "    def forward(self, input, hidden):\n",
    "        embedded = self.embedding(input).view(1, 1, -1)\n",
    "        output = embedded\n",
    "        output, hidden = self.gru(output, hidden)\n",
    "        return output, hidden\n",
    "\n",
    "    def initHidden(self):\n",
    "        return torch.zeros(1, 1, self.hidden_size, device=device)\n",
    "\n",
    "class AttnDecoderRNN(nn.Module):\n",
    "    def __init__(self, hidden_size, output_size, dropout_p=0.1, max_length=40):\n",
    "        super(AttnDecoderRNN, self).__init__()\n",
    "        self.hidden_size = hidden_size\n",
    "        self.output_size = output_size\n",
    "        self.dropout_p = dropout_p\n",
    "        self.max_length = max_length\n",
    "\n",
    "        self.embedding = nn.Embedding(self.output_size, self.hidden_size)\n",
    "        self.attn = nn.Linear(self.hidden_size * 2, self.max_length)\n",
    "        self.attn_combine = nn.Linear(self.hidden_size * 2, self.hidden_size)\n",
    "        self.dropout = nn.Dropout(self.dropout_p)\n",
    "        self.gru = nn.GRU(self.hidden_size, self.hidden_size)\n",
    "        self.out = nn.Linear(self.hidden_size, self.output_size)\n",
    "\n",
    "    def forward(self, input, hidden, encoder_outputs):\n",
    "        embedded = self.embedding(input).view(1, 1, -1)\n",
    "        embedded = self.dropout(embedded)\n",
    "\n",
    "        attn_weights = F.softmax(\n",
    "            self.attn(torch.cat((embedded[0], hidden[0]), 1)), dim=1)\n",
    "        attn_applied = torch.bmm(attn_weights.unsqueeze(0),\n",
    "                                 encoder_outputs.unsqueeze(0))\n",
    "\n",
    "        output = torch.cat((embedded[0], attn_applied[0]), 1)\n",
    "        output = self.attn_combine(output).unsqueeze(0)\n",
    "\n",
    "        output = F.relu(output)\n",
    "        output, hidden = self.gru(output, hidden)\n",
    "\n",
    "        output = F.log_softmax(self.out(output[0]), dim=1)\n",
    "        return output, hidden, attn_weights\n",
    "\n",
    "    def initHidden(self):\n",
    "        return torch.zeros(1, 1, self.hidden_size, device=device)"
   ]
  },
  {
   "cell_type": "markdown",
   "id": "bdf48e3e",
   "metadata": {},
   "source": [
    "Create instances of encoder and decoder with a hidden size of 256."
   ]
  },
  {
   "cell_type": "code",
   "execution_count": 13,
   "id": "a8e108d5",
   "metadata": {},
   "outputs": [],
   "source": [
    "hidden_size = 256\n",
    "\n",
    "encoder = EncoderRNN(len(e.humanVocab), hidden_size).to(device)\n",
    "decoder = AttnDecoderRNN(hidden_size, len(e.machineVocab)).to(device)"
   ]
  },
  {
   "cell_type": "markdown",
   "id": "1b34d8a6",
   "metadata": {},
   "source": [
    "**Training the model**\n",
    "\n",
    "Below the training function is defined, where we use the SOS and EOS tokens as start and finish to the decoder. We also use teacher forcing which means that we use the real outputs at each input instead of using the decoders guess, and this makes the training of the model faster. There is a 50% chance we will use teacher forcing. \n",
    "\n",
    "In the training function the input_tensor consist of the human encoded text which is given to the encoder. Furthermore the hidden state from the previous iteration is used when the encoder is called again. \n",
    "\n",
    "The encoder_hidden is then used in decoder as it's hidden layer, and furthermore the loss is updated based on the output compared to the target label. \n",
    "After this is done the loss is propagated back through the network, and we perform a single optimization step for the encoder and decoder optimizer."
   ]
  },
  {
   "cell_type": "code",
   "execution_count": 14,
   "id": "3d6d461d",
   "metadata": {},
   "outputs": [],
   "source": [
    "teacher_forcing_ratio = 0.5\n",
    "SOS_token = 0\n",
    "EOS_token = 1\n",
    "\n",
    "def train(input_tensor, target_tensor, encoder, decoder, encoder_optimizer, decoder_optimizer, criterion, max_length=40):\n",
    "    encoder_hidden = encoder.initHidden()\n",
    "\n",
    "    encoder_optimizer.zero_grad()\n",
    "    decoder_optimizer.zero_grad()\n",
    "\n",
    "    input_length = input_tensor[0].size(0)\n",
    "    target_length = target_tensor[0].size(0)\n",
    "\n",
    "    encoder_outputs = torch.zeros(max_length, encoder.hidden_size, device=device)\n",
    "\n",
    "    loss = 0\n",
    "\n",
    "    # Encoder\n",
    "    for encoder_i in range(input_length):\n",
    "        encoder_output, encoder_hidden = encoder(\n",
    "            (input_tensor[0])[encoder_i], encoder_hidden)\n",
    "        encoder_outputs[encoder_i] = encoder_output[0, 0]\n",
    "\n",
    "    decoder_input = torch.tensor([[SOS_token]], device=device)\n",
    "    decoder_hidden = encoder_hidden\n",
    "    \n",
    "    # Decoder\n",
    "    use_teacher_forcing = True if random.random() < teacher_forcing_ratio else False\n",
    "    if use_teacher_forcing:\n",
    "        # Teacher forcing: Feed the target as the next input\n",
    "        for decoder_i in range(target_length):\n",
    "            decoder_output, decoder_hidden, decoder_attention = decoder(decoder_input, decoder_hidden, encoder_outputs)\n",
    "            loss += criterion(decoder_output[0], (target_tensor[0])[decoder_i])\n",
    "            decoder_input = (target_tensor[0])[decoder_i] \n",
    "\n",
    "    else:\n",
    "        # Without teacher forcing: use its own predictions as the next input\n",
    "        for decoder_i in range(target_length):\n",
    "            decoder_output, decoder_hidden, decoder_attention = decoder(decoder_input, decoder_hidden, encoder_outputs)\n",
    "            topv, topi = decoder_output.topk(1)\n",
    "            decoder_input = topi.squeeze().detach()  # detach from history as input\n",
    "\n",
    "            loss += criterion(decoder_output[0], (target_tensor[0])[decoder_i])\n",
    "            if decoder_input.item() == EOS_token:\n",
    "                break\n",
    "\n",
    "    loss.backward()\n",
    "\n",
    "    encoder_optimizer.step()\n",
    "    decoder_optimizer.step()\n",
    "\n",
    "    return loss.item() / target_length"
   ]
  },
  {
   "cell_type": "markdown",
   "id": "832d62a5",
   "metadata": {},
   "source": [
    "Creating helper functions to keep track of time when training and a function to plot the loss compared to the iterations."
   ]
  },
  {
   "cell_type": "code",
   "execution_count": 15,
   "id": "e32ea953",
   "metadata": {},
   "outputs": [],
   "source": [
    "import time\n",
    "import math\n",
    "import matplotlib.pyplot as plt\n",
    "plt.switch_backend('agg')\n",
    "import matplotlib.ticker as ticker\n",
    "import numpy as np\n",
    "\n",
    "def asMinutes(s):\n",
    "    m = math.floor(s / 60)\n",
    "    s -= m * 60\n",
    "    return '%dm %ds' % (m, s)\n",
    "\n",
    "def timeSince(since, percent):\n",
    "    now = time.time()\n",
    "    s = now - since\n",
    "    es = s / (percent)\n",
    "    rs = es - s\n",
    "    return '%s (- %s)' % (asMinutes(s), asMinutes(rs))\n",
    "\n",
    "def showPlot(points):\n",
    "    plt.figure()\n",
    "    fig, ax = plt.subplots()\n",
    "    # this locator puts ticks at regular intervals\n",
    "    loc = ticker.MultipleLocator(base=0.2)\n",
    "    ax.yaxis.set_major_locator(loc)\n",
    "    plt.plot(points)\n",
    "    plt.xlabel(\"Iteration\")\n",
    "    plt.ylabel(\"Loss\")"
   ]
  },
  {
   "cell_type": "markdown",
   "id": "41f3ee16",
   "metadata": {},
   "source": [
    "The function trainIters uses the train function on every sample from our dataset. Firstly we define loss variables and choose SGD optimizers for the ecoder and decoder. After this we go into a for-loop where we train the model for each sample in the dataset. Then the loss is added to the variables and each 1000 iteration, the time and loss is printed to be able to follow the process of the training. "
   ]
  },
  {
   "cell_type": "code",
   "execution_count": 16,
   "id": "f17252c4",
   "metadata": {},
   "outputs": [],
   "source": [
    "def trainIters(encoder, decoder, n_iters, print_every=1000, plot_every=100, learning_rate=0.01):\n",
    "    start = time.time()\n",
    "    plot_losses = []\n",
    "    print_loss_total = 0\n",
    "    plot_loss_total = 0 \n",
    "\n",
    "    encoder_optimizer = optim.SGD(encoder.parameters(), lr=learning_rate)\n",
    "    decoder_optimizer = optim.SGD(decoder.parameters(), lr=learning_rate)\n",
    "\n",
    "    criterion = nn.NLLLoss()\n",
    "\n",
    "    for iter, (_,_,feature,label) in enumerate(trainset_loader):\n",
    "        iter = iter+1\n",
    "        input_tensor = feature.to(device)\n",
    "        target_tensor = label.to(device)\n",
    "\n",
    "        loss = train(input_tensor, target_tensor, encoder, decoder, encoder_optimizer, decoder_optimizer, criterion)\n",
    "        print_loss_total += loss\n",
    "        plot_loss_total += loss\n",
    "\n",
    "        if iter % print_every == 0:\n",
    "            print_loss_avg = print_loss_total / print_every\n",
    "            print_loss_total = 0\n",
    "            print('%s (%d %d%%) %.4f' % (timeSince(start, iter/n_iters), iter, iter/n_iters*100, print_loss_avg))\n",
    "\n",
    "        if iter % plot_every == 0:\n",
    "            plot_loss_avg = plot_loss_total / plot_every\n",
    "            plot_losses.append(plot_loss_avg)\n",
    "            plot_loss_total = 0\n",
    "\n",
    "    showPlot(plot_losses)"
   ]
  },
  {
   "cell_type": "markdown",
   "id": "5dbaba42",
   "metadata": {},
   "source": [
    "Training the model with 18.000 iterations. "
   ]
  },
  {
   "cell_type": "code",
   "execution_count": 17,
   "id": "5a9936a9",
   "metadata": {},
   "outputs": [
    {
     "name": "stdout",
     "output_type": "stream",
     "text": [
      "1m 12s (- 20m 26s) (1000 5%) 1.3488\n",
      "2m 29s (- 19m 55s) (2000 11%) 0.9839\n",
      "4m 3s (- 20m 16s) (3000 16%) 0.5870\n",
      "5m 37s (- 19m 42s) (4000 22%) 0.2956\n",
      "7m 17s (- 18m 57s) (5000 27%) 0.2550\n",
      "8m 54s (- 17m 48s) (6000 33%) 0.2359\n",
      "10m 35s (- 16m 38s) (7000 38%) 0.1596\n",
      "12m 13s (- 15m 17s) (8000 44%) 0.1515\n",
      "13m 58s (- 13m 58s) (9000 50%) 0.1237\n",
      "15m 36s (- 12m 29s) (10000 55%) 0.1296\n",
      "17m 19s (- 11m 1s) (11000 61%) 0.1433\n",
      "19m 2s (- 9m 31s) (12000 66%) 0.1019\n",
      "20m 53s (- 8m 1s) (13000 72%) 0.1225\n",
      "22m 41s (- 6m 28s) (14000 77%) 0.0922\n",
      "24m 30s (- 4m 54s) (15000 83%) 0.0713\n",
      "26m 17s (- 3m 17s) (16000 88%) 0.0786\n",
      "28m 13s (- 1m 39s) (17000 94%) 0.0623\n",
      "30m 12s (- 0m 0s) (18000 100%) 0.0641\n"
     ]
    },
    {
     "data": {
      "text/plain": [
       "<Figure size 432x288 with 0 Axes>"
      ]
     },
     "metadata": {},
     "output_type": "display_data"
    },
    {
     "data": {
      "image/png": "[encoded data removed]",
      "text/plain": [
       "<Figure size 432x288 with 1 Axes>"
      ]
     },
     "metadata": {
      "needs_background": "light"
     },
     "output_type": "display_data"
    }
   ],
   "source": [
    "trainIters(encoder, decoder, 18000, print_every=1000, plot_every=1000)"
   ]
  },
  {
   "cell_type": "markdown",
   "id": "7d0a2a49",
   "metadata": {},
   "source": [
    "# Testing the model on the test set\n",
    "\n",
    "To test the model we use the test set instead of the train set and go trough each of them the same way we did in the training. \n",
    "We use the decoder_input at each iteration the check if the output of the model is that same as the true label, and increment the error_per_char if they are different.\n",
    "We also calculate the average error per character and print it."
   ]
  },
  {
   "cell_type": "code",
   "execution_count": 27,
   "id": "60f58f86",
   "metadata": {},
   "outputs": [
    {
     "name": "stdout",
     "output_type": "stream",
     "text": [
      "iter: 500  procent avg: 2.28 %\n",
      "iter: 1000  procent avg: 1.62 %\n",
      "iter: 1500  procent avg: 1.98 %\n",
      "Avg errors per character:  0.019708333333333335\n"
     ]
    }
   ],
   "source": [
    "total_errors_section = 0\n",
    "total_errors = 0\n",
    "\n",
    "for iter,(_,_,feature,label) in enumerate(testset_loader):\n",
    "  input_length = len(feature[0])\n",
    "  target_length = len(label[0])\n",
    "    \n",
    "  input_tensor = feature.to(device)\n",
    "  target_tensor = label.to(device)\n",
    "\n",
    "  encoder_outputs = torch.zeros(40, encoder.hidden_size, device=device)\n",
    "  encoder_hidden = encoder.initHidden()\n",
    "\n",
    "  for encoder_i in range(input_length):\n",
    "    encoder_output, encoder_hidden = encoder((input_tensor[0])[encoder_i], encoder_hidden)\n",
    "    encoder_outputs[encoder_i] = encoder_output[0, 0]\n",
    "\n",
    "  decoder_input = torch.tensor([[SOS_token]], device=device)\n",
    "  decoder_hidden = encoder_hidden\n",
    "  decoder_attentions = torch.zeros(40, 40)\n",
    "\n",
    "  errors_per_char = 0\n",
    "\n",
    "  for decoder_i in range(target_length):\n",
    "      decoder_output, decoder_hidden, decoder_attention = decoder(decoder_input,decoder_hidden, encoder_outputs)\n",
    "      decoder_attentions[decoder_i] = decoder_attention.data\n",
    "      topv, topi = decoder_output.topk(1)\n",
    "      decoder_input = topi.squeeze().detach() \n",
    "\n",
    "      if (decoder_input != (target_tensor[0])[decoder_i]):\n",
    "        errors_per_char += 1\n",
    "  \n",
    "  total_errors_section += errors_per_char\n",
    "  total_errors += errors_per_char\n",
    "\n",
    "  if iter != 0:\n",
    "    if iter % 500 == 0:\n",
    "      avg_loss = total_errors_section / 500\n",
    "      avg_loss_percent = avg_loss/target_length * 100\n",
    "      print(\"iter:\", iter, \" procent avg:\" , \"{:.2f}\".format(avg_loss_percent), \"%\")\n",
    "      total_errors_section = 0\n",
    "\n",
    "  errors_per_char = 0\n",
    "\n",
    "avg_total_errors = total_errors/(2000*target_length)  # We need to divide by each character therefore we multiply with 12\n",
    "print(\"Avg errors per character: \", avg_total_errors)"
   ]
  },
  {
   "cell_type": "markdown",
   "id": "ad65332b",
   "metadata": {},
   "source": [
    "**Testing with human data**\n",
    "\n",
    "To see some results we can input some random human dates and compare with the outputs from the model. \n",
    "To stop the test we break after 20 iteration, and print the results side by side to see how good the model actually is. "
   ]
  },
  {
   "cell_type": "code",
   "execution_count": 30,
   "id": "d2c3008a",
   "metadata": {},
   "outputs": [
    {
     "name": "stdout",
     "output_type": "stream",
     "text": [
      "Human: ('24/10/2022',)  - Machine: <SOS>2022-10-24<EOS>\n",
      "Human: ('21.01.2001',)  - Machine: <SOS>2001-01-21<EOS>\n",
      "Human: ('18/04/2012',)  - Machine: <SOS>2012-04-18<EOS>\n",
      "Human: ('24. juni 1988',)  - Machine: <SOS>1988-06-24<EOS>\n",
      "Human: ('fredag 15 juli 2005',)  - Machine: <SOS>2005-05-16<EOS>\n",
      "Human: ('15. sep. 2010',)  - Machine: <SOS>2010-09-15<EOS>\n",
      "Human: ('12 maj 1972',)  - Machine: <SOS>1972-05-12<EOS>\n",
      "Human: ('fre. 27 jun. 1997',)  - Machine: <SOS>1997-06-27<EOS>\n",
      "Human: ('16. juli 1992',)  - Machine: <SOS>1992-07-16<EOS>\n",
      "Human: ('søndag den 15. juni 2003',)  - Machine: <SOS>2003-06-19<EOS>\n",
      "Human: ('26/05/2009',)  - Machine: <SOS>2009-05-26<EOS>\n",
      "Human: ('19. mar. 2012',)  - Machine: <SOS>2012-03-19<EOS>\n",
      "Human: ('onsdag 6 oktober 1999',)  - Machine: <SOS>1999-10-06<EOS>\n",
      "Human: ('søndag 29 august 2004',)  - Machine: <SOS>2004-08-20<EOS>\n",
      "Human: ('1. juli 1995',)  - Machine: <SOS>1995-07-01<EOS>\n",
      "Human: ('12/02/1972',)  - Machine: <SOS>1972-02-12<EOS>\n",
      "Human: ('lørdag den 16. april 1988',)  - Machine: <SOS>1988-03-19<EOS>\n",
      "Human: ('24/08/2010',)  - Machine: <SOS>2010-08-24<EOS>\n",
      "Human: ('11. juni 1990',)  - Machine: <SOS>1990-06-11<EOS>\n",
      "Human: ('mandag den 29. december 1997',)  - Machine: <SOS>1997-12-09<EOS>\n"
     ]
    }
   ],
   "source": [
    "def intToString(dataset, machineEncoded):\n",
    "    return ''.join([dataset.invMachineVocab[int(x)] for x in machineEncoded])    \n",
    "\n",
    "for iter,(human_readable,_,feature,label) in enumerate(testset_loader):\n",
    "  input_length = len(feature[0])\n",
    "  target_length = len(label[0])\n",
    "    \n",
    "  input_tensor = feature.to(device)\n",
    "  target_tensor = label.to(device)\n",
    "\n",
    "  encoder_outputs = torch.zeros(40, encoder.hidden_size, device=device)\n",
    "  encoder_hidden = encoder.initHidden()\n",
    "\n",
    "  for encoder_i in range(input_length):\n",
    "    encoder_output, encoder_hidden = encoder((input_tensor[0])[encoder_i], encoder_hidden)\n",
    "    encoder_outputs[encoder_i] = encoder_output[0, 0]\n",
    "\n",
    "  decoder_input = torch.tensor([[SOS_token]], device=device)\n",
    "  decoder_hidden = encoder_hidden\n",
    "\n",
    "  # Combining the the full date\n",
    "  decoder_full_output = torch.empty((target_length,1)).to(device)\n",
    "\n",
    "  for decoder_i in range(target_length):\n",
    "      decoder_output, decoder_hidden, decoder_attention = decoder(decoder_input, decoder_hidden, encoder_outputs)\n",
    "      topv, topi = decoder_output.topk(1)\n",
    "      decoder_input = topi.squeeze().detach() \n",
    "      decoder_full_output[decoder_i] = decoder_input\n",
    "\n",
    "  print(\"Human:\", human_readable, \" - Machine:\" , intToString(e, decoder_full_output))\n",
    "  if iter == 19:\n",
    "    break"
   ]
  },
  {
   "cell_type": "markdown",
   "id": "edea0f40",
   "metadata": {},
   "source": [
    "# Conclusion"
   ]
  },
  {
   "cell_type": "markdown",
   "id": "0c377868",
   "metadata": {},
   "source": [
    "The model gets a loss of approximately 6% which is quite good, but it also took about 30 minutes to train the model. \n",
    "The average error per character is 1,9% which isn't perfect but still very good. \n",
    "\n",
    "At first the model was created with a decoder without attention since i thought that there wouldn't be a strong correlation between each word in a date, and that they often consists of numbers. But since the model performed poorly a decoder with attention was created which formed much better. \n",
    "\n",
    "Also when the model was first created the number of data samples wasn't very high, but since we basically have unlimited data more was created. \n",
    "Multiple different models was trained with a different number of samples, which effected the training time. It could be seen that there was a strong correlation between the number of samples and how good the model performed, and therefore a middle ground with 18000 data samples was used as the final model. This resulted in a good model that didn't take too much time to train. \n",
    "\n",
    "As shwon in the last test with human data the model performed very well compared to the true labels. Mostly the model got the dates right but a few times it was off a bit like getting the date wrong, and sometimes the day and month where switched around. As said earlier the model could be better with more data, but this would also take a longer time. "
   ]
  }
 ],
 "metadata": {
  "kernelspec": {
   "display_name": "Python 3",
   "language": "python",
   "name": "python3"
  },
  "language_info": {
   "codemirror_mode": {
    "name": "ipython",
    "version": 3
   },
   "file_extension": ".py",
   "mimetype": "text/x-python",
   "name": "python",
   "nbconvert_exporter": "python",
   "pygments_lexer": "ipython3",
   "version": "3.8.8"
  },
  "vscode": {
   "interpreter": {
    "hash": "4d9defa72c2715dab9f7f172572cd30a1ab1a2083462d32ef96aadb7c6e0c73b"
   }
  }
 },
 "nbformat": 4,
 "nbformat_minor": 5
}
